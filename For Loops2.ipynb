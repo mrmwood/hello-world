{
 "cells": [
  {
   "cell_type": "markdown",
   "metadata": {
    "slideshow": {
     "slide_type": "slide"
    }
   },
   "source": [
    "## What do you think this program will output?"
   ]
  },
  {
   "cell_type": "code",
   "execution_count": null,
   "metadata": {
    "collapsed": false,
    "nbpresent": {
     "id": "23f7c13c-a04e-408a-a34e-865a5cea9e4f"
    },
    "slideshow": {
     "slide_type": "-"
    }
   },
   "outputs": [],
   "source": [
    "for i in range(10):\n",
    "    print(i)\n",
    "print(\"Blast Off\")"
   ]
  },
  {
   "cell_type": "markdown",
   "metadata": {
    "slideshow": {
     "slide_type": "slide"
    }
   },
   "source": [
    "## What do you think this program will output?"
   ]
  },
  {
   "cell_type": "code",
   "execution_count": null,
   "metadata": {
    "collapsed": false,
    "slideshow": {
     "slide_type": "-"
    }
   },
   "outputs": [],
   "source": [
    "for i in range(10,20):\n",
    "    print(i)\n",
    "print(\"Blast Off\")"
   ]
  },
  {
   "cell_type": "markdown",
   "metadata": {
    "slideshow": {
     "slide_type": "slide"
    }
   },
   "source": [
    "## What do you think this program will output?"
   ]
  },
  {
   "cell_type": "code",
   "execution_count": null,
   "metadata": {
    "collapsed": false,
    "slideshow": {
     "slide_type": "-"
    }
   },
   "outputs": [],
   "source": [
    "for i in range(10,0,-1):\n",
    "    print(i)\n",
    "print(\"Blast Off\")"
   ]
  },
  {
   "cell_type": "markdown",
   "metadata": {
    "slideshow": {
     "slide_type": "slide"
    }
   },
   "source": [
    "## Explanation of a for loop\n",
    "\n",
    "#### First lets look at the range( ) function\n",
    "\n",
    "Range can take up to 3 parameters:\n",
    "\n",
    "```python\n",
    "range([start], [stop], [step])\n",
    "```\n",
    "\n",
    "__start:__ Starting number of the sequence.\n",
    "\n",
    "__stop:__ Generate numbers up to, but not including this number.\n",
    "\n",
    "__step:__ Difference between each number in the sequence aka the increment"
   ]
  },
  {
   "cell_type": "markdown",
   "metadata": {
    "slideshow": {
     "slide_type": "slide"
    }
   },
   "source": [
    "# Consider this code...\n",
    "\n",
    "The __start__ is __10__\n",
    "\n",
    "The __stop__ is __100__\n",
    "\n",
    "The __step__ is __10__\n",
    "\n",
    "so what will it output?"
   ]
  },
  {
   "cell_type": "code",
   "execution_count": 15,
   "metadata": {
    "collapsed": false
   },
   "outputs": [
    {
     "name": "stdout",
     "output_type": "stream",
     "text": [
      "10\n",
      "20\n",
      "30\n",
      "40\n",
      "50\n",
      "60\n",
      "70\n",
      "80\n",
      "90\n"
     ]
    }
   ],
   "source": [
    "for i in range(10,100,10):\n",
    "    print(i)"
   ]
  }
 ],
 "metadata": {
  "anaconda-cloud": {},
  "celltoolbar": "Slideshow",
  "kernelspec": {
   "display_name": "Python [default]",
   "language": "python",
   "name": "python3"
  },
  "language_info": {
   "codemirror_mode": {
    "name": "ipython",
    "version": 3
   },
   "file_extension": ".py",
   "mimetype": "text/x-python",
   "name": "python",
   "nbconvert_exporter": "python",
   "pygments_lexer": "ipython3",
   "version": "3.5.2"
  },
  "nbpresent": {
   "slides": {
    "3db8dfd2-f0b5-484d-b459-6bc71744ecb2": {
     "id": "3db8dfd2-f0b5-484d-b459-6bc71744ecb2",
     "layout": "manual",
     "prev": "52f19841-3397-436d-b4e6-1d1e5e8a15e0",
     "regions": {
      "d7fcbc16-1954-4dd0-9429-4088005ac6f7": {
       "attrs": {
        "height": 1,
        "pad": 5.01,
        "treemap:weight": 1,
        "width": 1,
        "x": 0,
        "y": 0
       },
       "id": "d7fcbc16-1954-4dd0-9429-4088005ac6f7"
      }
     }
    },
    "52f19841-3397-436d-b4e6-1d1e5e8a15e0": {
     "id": "52f19841-3397-436d-b4e6-1d1e5e8a15e0",
     "prev": "b92dc3f7-feb0-4a50-a75d-80d94e03aa3f",
     "regions": {
      "2dd2ecbf-3b24-4376-a003-ffaadb64364f": {
       "attrs": {
        "height": 1,
        "width": 1,
        "x": 0,
        "y": 0
       },
       "id": "2dd2ecbf-3b24-4376-a003-ffaadb64364f"
      }
     }
    },
    "b92dc3f7-feb0-4a50-a75d-80d94e03aa3f": {
     "id": "b92dc3f7-feb0-4a50-a75d-80d94e03aa3f",
     "layout": "grid",
     "prev": null,
     "regions": {
      "ec2fe9d3-6d55-4c14-9c06-9cd4f1a24112": {
       "attrs": {
        "height": 0.8333333333333334,
        "pad": 0.01,
        "width": 0.8333333333333334,
        "x": 0.08333333333333333,
        "y": 0.08333333333333333
       },
       "content": {
        "cell": "8e1a3fe0-8d38-4f68-92f5-2f993f37643c",
        "part": "whole"
       },
       "id": "ec2fe9d3-6d55-4c14-9c06-9cd4f1a24112"
      }
     }
    }
   },
   "themes": {}
  }
 },
 "nbformat": 4,
 "nbformat_minor": 1
}
